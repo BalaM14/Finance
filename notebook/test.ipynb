{
 "cells": [
  {
   "cell_type": "code",
   "execution_count": 5,
   "metadata": {},
   "outputs": [],
   "source": [
    "import pandas as pd"
   ]
  },
  {
   "cell_type": "code",
   "execution_count": 6,
   "metadata": {},
   "outputs": [
    {
     "data": {
      "text/plain": [
       "'d:\\\\Bala\\\\Project_Inprogress\\\\Finance\\\\notebook'"
      ]
     },
     "execution_count": 6,
     "metadata": {},
     "output_type": "execute_result"
    }
   ],
   "source": [
    "import os\n",
    "os.getcwd()"
   ]
  },
  {
   "cell_type": "code",
   "execution_count": 7,
   "metadata": {},
   "outputs": [
    {
     "data": {
      "text/plain": [
       "'d:\\\\Bala\\\\Project_Inprogress\\\\Finance'"
      ]
     },
     "execution_count": 7,
     "metadata": {},
     "output_type": "execute_result"
    }
   ],
   "source": [
    "os.chdir(\"../\")\n",
    "os.getcwd()"
   ]
  },
  {
   "cell_type": "code",
   "execution_count": 8,
   "metadata": {},
   "outputs": [
    {
     "name": "stdout",
     "output_type": "stream",
     "text": [
      "['pandas', 'Flask', 'numpy']\n"
     ]
    }
   ],
   "source": [
    "with open(\"requirements.txt\") as requirment:\n",
    "    requirement_list = requirment.readlines()\n",
    "    requirement_list = [requirment.replace(\"\\n\",\"\") for requirment in requirement_list]\n",
    "    \n",
    "    if \"-e .\" in requirement_list:\n",
    "        requirement_list.remove('-e .')\n",
    "    \n",
    "    print(requirement_list)\n",
    "    "
   ]
  },
  {
   "cell_type": "code",
   "execution_count": 22,
   "metadata": {},
   "outputs": [
    {
     "name": "stderr",
     "output_type": "stream",
     "text": [
      "C:\\Users\\balaj\\AppData\\Local\\Temp\\ipykernel_27168\\3473365115.py:1: DtypeWarning: Columns (5,17) have mixed types. Specify dtype option on import or set low_memory=False.\n",
      "  df = pd.read_csv(\"input_file.csv\", on_bad_lines='skip',delimiter=',')\n"
     ]
    },
    {
     "data": {
      "text/html": [
       "<div>\n",
       "<style scoped>\n",
       "    .dataframe tbody tr th:only-of-type {\n",
       "        vertical-align: middle;\n",
       "    }\n",
       "\n",
       "    .dataframe tbody tr th {\n",
       "        vertical-align: top;\n",
       "    }\n",
       "\n",
       "    .dataframe thead th {\n",
       "        text-align: right;\n",
       "    }\n",
       "</style>\n",
       "<table border=\"1\" class=\"dataframe\">\n",
       "  <thead>\n",
       "    <tr style=\"text-align: right;\">\n",
       "      <th></th>\n",
       "      <th>Date received</th>\n",
       "      <th>Product</th>\n",
       "      <th>Sub-product</th>\n",
       "      <th>Issue</th>\n",
       "      <th>Sub-issue</th>\n",
       "      <th>Consumer complaint narrative</th>\n",
       "      <th>Company public response</th>\n",
       "      <th>Company</th>\n",
       "      <th>State</th>\n",
       "      <th>ZIP code</th>\n",
       "      <th>Tags</th>\n",
       "      <th>Consumer consent provided?</th>\n",
       "      <th>Submitted via</th>\n",
       "      <th>Date sent to company</th>\n",
       "      <th>Company response to consumer</th>\n",
       "      <th>Timely response?</th>\n",
       "      <th>Consumer disputed?</th>\n",
       "      <th>Complaint ID</th>\n",
       "    </tr>\n",
       "  </thead>\n",
       "  <tbody>\n",
       "    <tr>\n",
       "      <th>0</th>\n",
       "      <td>2024-09-15</td>\n",
       "      <td>Credit reporting or other personal consumer re...</td>\n",
       "      <td>Credit reporting</td>\n",
       "      <td>Improper use of your report</td>\n",
       "      <td>Reporting company used your report improperly</td>\n",
       "      <td>NaN</td>\n",
       "      <td>NaN</td>\n",
       "      <td>Paramount Recovery Systems, L.P.</td>\n",
       "      <td>FL</td>\n",
       "      <td>33578</td>\n",
       "      <td>NaN</td>\n",
       "      <td>NaN</td>\n",
       "      <td>Web</td>\n",
       "      <td>2024-09-15</td>\n",
       "      <td>Closed with explanation</td>\n",
       "      <td>Yes</td>\n",
       "      <td>NaN</td>\n",
       "      <td>10131769.0</td>\n",
       "    </tr>\n",
       "    <tr>\n",
       "      <th>1</th>\n",
       "      <td>2024-09-05</td>\n",
       "      <td>Checking or savings account</td>\n",
       "      <td>Checking account</td>\n",
       "      <td>Managing an account</td>\n",
       "      <td>Problem accessing account</td>\n",
       "      <td>NaN</td>\n",
       "      <td>NaN</td>\n",
       "      <td>Block, Inc.</td>\n",
       "      <td>CA</td>\n",
       "      <td>95695</td>\n",
       "      <td>NaN</td>\n",
       "      <td>NaN</td>\n",
       "      <td>Web</td>\n",
       "      <td>2024-09-05</td>\n",
       "      <td>Closed with explanation</td>\n",
       "      <td>Yes</td>\n",
       "      <td>NaN</td>\n",
       "      <td>10019373.0</td>\n",
       "    </tr>\n",
       "    <tr>\n",
       "      <th>2</th>\n",
       "      <td>2024-09-09</td>\n",
       "      <td>Debt collection</td>\n",
       "      <td>I do not know</td>\n",
       "      <td>Written notification about debt</td>\n",
       "      <td>Didn't receive notice of right to dispute</td>\n",
       "      <td>NaN</td>\n",
       "      <td>NaN</td>\n",
       "      <td>Resurgent Capital Services L.P.</td>\n",
       "      <td>MA</td>\n",
       "      <td>02026</td>\n",
       "      <td>NaN</td>\n",
       "      <td>NaN</td>\n",
       "      <td>Web</td>\n",
       "      <td>2024-09-09</td>\n",
       "      <td>Closed with non-monetary relief</td>\n",
       "      <td>Yes</td>\n",
       "      <td>NaN</td>\n",
       "      <td>10064742.0</td>\n",
       "    </tr>\n",
       "    <tr>\n",
       "      <th>3</th>\n",
       "      <td>2024-08-14</td>\n",
       "      <td>Credit reporting or other personal consumer re...</td>\n",
       "      <td>Credit reporting</td>\n",
       "      <td>Improper use of your report</td>\n",
       "      <td>Credit inquiries on your report that you don't...</td>\n",
       "      <td>NaN</td>\n",
       "      <td>NaN</td>\n",
       "      <td>TRANSUNION INTERMEDIATE HOLDINGS, INC.</td>\n",
       "      <td>IL</td>\n",
       "      <td>60652</td>\n",
       "      <td>NaN</td>\n",
       "      <td>NaN</td>\n",
       "      <td>Web</td>\n",
       "      <td>2024-08-14</td>\n",
       "      <td>In progress</td>\n",
       "      <td>Yes</td>\n",
       "      <td>NaN</td>\n",
       "      <td>9780108.0</td>\n",
       "    </tr>\n",
       "    <tr>\n",
       "      <th>4</th>\n",
       "      <td>2024-09-14</td>\n",
       "      <td>Credit reporting or other personal consumer re...</td>\n",
       "      <td>Credit reporting</td>\n",
       "      <td>Incorrect information on your report</td>\n",
       "      <td>Information belongs to someone else</td>\n",
       "      <td>NaN</td>\n",
       "      <td>NaN</td>\n",
       "      <td>PORTFOLIO RECOVERY ASSOCIATES INC</td>\n",
       "      <td>FL</td>\n",
       "      <td>32763</td>\n",
       "      <td>NaN</td>\n",
       "      <td>NaN</td>\n",
       "      <td>Web</td>\n",
       "      <td>2024-09-14</td>\n",
       "      <td>Closed with explanation</td>\n",
       "      <td>Yes</td>\n",
       "      <td>NaN</td>\n",
       "      <td>10125004.0</td>\n",
       "    </tr>\n",
       "  </tbody>\n",
       "</table>\n",
       "</div>"
      ],
      "text/plain": [
       "  Date received                                            Product  \\\n",
       "0    2024-09-15  Credit reporting or other personal consumer re...   \n",
       "1    2024-09-05                        Checking or savings account   \n",
       "2    2024-09-09                                    Debt collection   \n",
       "3    2024-08-14  Credit reporting or other personal consumer re...   \n",
       "4    2024-09-14  Credit reporting or other personal consumer re...   \n",
       "\n",
       "        Sub-product                                 Issue  \\\n",
       "0  Credit reporting           Improper use of your report   \n",
       "1  Checking account                   Managing an account   \n",
       "2     I do not know       Written notification about debt   \n",
       "3  Credit reporting           Improper use of your report   \n",
       "4  Credit reporting  Incorrect information on your report   \n",
       "\n",
       "                                           Sub-issue  \\\n",
       "0      Reporting company used your report improperly   \n",
       "1                          Problem accessing account   \n",
       "2          Didn't receive notice of right to dispute   \n",
       "3  Credit inquiries on your report that you don't...   \n",
       "4                Information belongs to someone else   \n",
       "\n",
       "  Consumer complaint narrative Company public response  \\\n",
       "0                          NaN                     NaN   \n",
       "1                          NaN                     NaN   \n",
       "2                          NaN                     NaN   \n",
       "3                          NaN                     NaN   \n",
       "4                          NaN                     NaN   \n",
       "\n",
       "                                  Company State ZIP code Tags  \\\n",
       "0        Paramount Recovery Systems, L.P.    FL    33578  NaN   \n",
       "1                             Block, Inc.    CA    95695  NaN   \n",
       "2         Resurgent Capital Services L.P.    MA    02026  NaN   \n",
       "3  TRANSUNION INTERMEDIATE HOLDINGS, INC.    IL    60652  NaN   \n",
       "4       PORTFOLIO RECOVERY ASSOCIATES INC    FL    32763  NaN   \n",
       "\n",
       "  Consumer consent provided? Submitted via Date sent to company  \\\n",
       "0                        NaN           Web           2024-09-15   \n",
       "1                        NaN           Web           2024-09-05   \n",
       "2                        NaN           Web           2024-09-09   \n",
       "3                        NaN           Web           2024-08-14   \n",
       "4                        NaN           Web           2024-09-14   \n",
       "\n",
       "      Company response to consumer Timely response? Consumer disputed?  \\\n",
       "0          Closed with explanation              Yes                NaN   \n",
       "1          Closed with explanation              Yes                NaN   \n",
       "2  Closed with non-monetary relief              Yes                NaN   \n",
       "3                      In progress              Yes                NaN   \n",
       "4          Closed with explanation              Yes                NaN   \n",
       "\n",
       "  Complaint ID  \n",
       "0   10131769.0  \n",
       "1   10019373.0  \n",
       "2   10064742.0  \n",
       "3    9780108.0  \n",
       "4   10125004.0  "
      ]
     },
     "execution_count": 22,
     "metadata": {},
     "output_type": "execute_result"
    }
   ],
   "source": [
    "df = pd.read_csv(\"input_file.csv\", on_bad_lines='skip',delimiter=',')\n",
    "df.head()"
   ]
  },
  {
   "cell_type": "code",
   "execution_count": 23,
   "metadata": {},
   "outputs": [
    {
     "data": {
      "text/plain": [
       "(5216070, 18)"
      ]
     },
     "execution_count": 23,
     "metadata": {},
     "output_type": "execute_result"
    }
   ],
   "source": [
    "df.shape"
   ]
  },
  {
   "cell_type": "code",
   "execution_count": 17,
   "metadata": {},
   "outputs": [
    {
     "name": "stdout",
     "output_type": "stream",
     "text": [
      "<class 'pandas.core.frame.DataFrame'>\n",
      "RangeIndex: 1973731 entries, 0 to 1973730\n",
      "Data columns (total 18 columns):\n",
      " #   Column  Dtype \n",
      "---  ------  ----- \n",
      " 0   0       object\n",
      " 1   1       object\n",
      " 2   2       object\n",
      " 3   3       object\n",
      " 4   4       object\n",
      " 5   5       object\n",
      " 6   6       object\n",
      " 7   7       object\n",
      " 8   8       object\n",
      " 9   9       object\n",
      " 10  10      object\n",
      " 11  11      object\n",
      " 12  12      object\n",
      " 13  13      object\n",
      " 14  14      object\n",
      " 15  15      object\n",
      " 16  16      object\n",
      " 17  17      object\n",
      "dtypes: object(18)\n",
      "memory usage: 271.1+ MB\n"
     ]
    }
   ],
   "source": [
    "df.info()"
   ]
  },
  {
   "cell_type": "code",
   "execution_count": 19,
   "metadata": {},
   "outputs": [
    {
     "data": {
      "text/html": [
       "<div>\n",
       "<style scoped>\n",
       "    .dataframe tbody tr th:only-of-type {\n",
       "        vertical-align: middle;\n",
       "    }\n",
       "\n",
       "    .dataframe tbody tr th {\n",
       "        vertical-align: top;\n",
       "    }\n",
       "\n",
       "    .dataframe thead th {\n",
       "        text-align: right;\n",
       "    }\n",
       "</style>\n",
       "<table border=\"1\" class=\"dataframe\">\n",
       "  <thead>\n",
       "    <tr style=\"text-align: right;\">\n",
       "      <th></th>\n",
       "      <th>count</th>\n",
       "      <th>unique</th>\n",
       "      <th>top</th>\n",
       "      <th>freq</th>\n",
       "    </tr>\n",
       "  </thead>\n",
       "  <tbody>\n",
       "    <tr>\n",
       "      <th>0</th>\n",
       "      <td>1973731</td>\n",
       "      <td>4729</td>\n",
       "      <td>2024-08-07</td>\n",
       "      <td>7827</td>\n",
       "    </tr>\n",
       "    <tr>\n",
       "      <th>1</th>\n",
       "      <td>1973694</td>\n",
       "      <td>42</td>\n",
       "      <td>Credit reporting or other personal consumer re...</td>\n",
       "      <td>688495</td>\n",
       "    </tr>\n",
       "    <tr>\n",
       "      <th>2</th>\n",
       "      <td>1857123</td>\n",
       "      <td>102</td>\n",
       "      <td>Credit reporting</td>\n",
       "      <td>1172744</td>\n",
       "    </tr>\n",
       "    <tr>\n",
       "      <th>3</th>\n",
       "      <td>1973677</td>\n",
       "      <td>185</td>\n",
       "      <td>Incorrect information on your report</td>\n",
       "      <td>594336</td>\n",
       "    </tr>\n",
       "    <tr>\n",
       "      <th>4</th>\n",
       "      <td>1671716</td>\n",
       "      <td>277</td>\n",
       "      <td>Information belongs to someone else</td>\n",
       "      <td>382891</td>\n",
       "    </tr>\n",
       "    <tr>\n",
       "      <th>5</th>\n",
       "      <td>487498</td>\n",
       "      <td>408021</td>\n",
       "      <td>My credit reports are inaccurate. These inaccu...</td>\n",
       "      <td>1670</td>\n",
       "    </tr>\n",
       "    <tr>\n",
       "      <th>6</th>\n",
       "      <td>852202</td>\n",
       "      <td>21498</td>\n",
       "      <td>Company has responded to the consumer and the ...</td>\n",
       "      <td>676200</td>\n",
       "    </tr>\n",
       "    <tr>\n",
       "      <th>7</th>\n",
       "      <td>1957813</td>\n",
       "      <td>17855</td>\n",
       "      <td>EQUIFAX, INC.</td>\n",
       "      <td>425884</td>\n",
       "    </tr>\n",
       "    <tr>\n",
       "      <th>8</th>\n",
       "      <td>1935466</td>\n",
       "      <td>17443</td>\n",
       "      <td>FL</td>\n",
       "      <td>228094</td>\n",
       "    </tr>\n",
       "    <tr>\n",
       "      <th>9</th>\n",
       "      <td>1889433</td>\n",
       "      <td>35199</td>\n",
       "      <td>XXXXX</td>\n",
       "      <td>27046</td>\n",
       "    </tr>\n",
       "    <tr>\n",
       "      <th>10</th>\n",
       "      <td>228597</td>\n",
       "      <td>4532</td>\n",
       "      <td>Servicemember</td>\n",
       "      <td>83211</td>\n",
       "    </tr>\n",
       "    <tr>\n",
       "      <th>11</th>\n",
       "      <td>1426553</td>\n",
       "      <td>4359</td>\n",
       "      <td>Consent not provided</td>\n",
       "      <td>872969</td>\n",
       "    </tr>\n",
       "    <tr>\n",
       "      <th>12</th>\n",
       "      <td>1930274</td>\n",
       "      <td>20272</td>\n",
       "      <td>Web</td>\n",
       "      <td>1623873</td>\n",
       "    </tr>\n",
       "    <tr>\n",
       "      <th>13</th>\n",
       "      <td>1937119</td>\n",
       "      <td>9475</td>\n",
       "      <td>Closed with explanation</td>\n",
       "      <td>23256</td>\n",
       "    </tr>\n",
       "    <tr>\n",
       "      <th>14</th>\n",
       "      <td>1946033</td>\n",
       "      <td>4091</td>\n",
       "      <td>Closed with explanation</td>\n",
       "      <td>1123862</td>\n",
       "    </tr>\n",
       "    <tr>\n",
       "      <th>15</th>\n",
       "      <td>1899357</td>\n",
       "      <td>5001</td>\n",
       "      <td>Yes</td>\n",
       "      <td>1836398</td>\n",
       "    </tr>\n",
       "    <tr>\n",
       "      <th>16</th>\n",
       "      <td>444114</td>\n",
       "      <td>62422</td>\n",
       "      <td>No</td>\n",
       "      <td>293398</td>\n",
       "    </tr>\n",
       "    <tr>\n",
       "      <th>17</th>\n",
       "      <td>1869263</td>\n",
       "      <td>1857519</td>\n",
       "      <td>Consent not provided</td>\n",
       "      <td>2912</td>\n",
       "    </tr>\n",
       "  </tbody>\n",
       "</table>\n",
       "</div>"
      ],
      "text/plain": [
       "      count   unique                                                top  \\\n",
       "0   1973731     4729                                         2024-08-07   \n",
       "1   1973694       42  Credit reporting or other personal consumer re...   \n",
       "2   1857123      102                                   Credit reporting   \n",
       "3   1973677      185               Incorrect information on your report   \n",
       "4   1671716      277                Information belongs to someone else   \n",
       "5    487498   408021  My credit reports are inaccurate. These inaccu...   \n",
       "6    852202    21498  Company has responded to the consumer and the ...   \n",
       "7   1957813    17855                                      EQUIFAX, INC.   \n",
       "8   1935466    17443                                                 FL   \n",
       "9   1889433    35199                                              XXXXX   \n",
       "10   228597     4532                                      Servicemember   \n",
       "11  1426553     4359                               Consent not provided   \n",
       "12  1930274    20272                                                Web   \n",
       "13  1937119     9475                            Closed with explanation   \n",
       "14  1946033     4091                            Closed with explanation   \n",
       "15  1899357     5001                                                Yes   \n",
       "16   444114    62422                                                 No   \n",
       "17  1869263  1857519                               Consent not provided   \n",
       "\n",
       "       freq  \n",
       "0      7827  \n",
       "1    688495  \n",
       "2   1172744  \n",
       "3    594336  \n",
       "4    382891  \n",
       "5      1670  \n",
       "6    676200  \n",
       "7    425884  \n",
       "8    228094  \n",
       "9     27046  \n",
       "10    83211  \n",
       "11   872969  \n",
       "12  1623873  \n",
       "13    23256  \n",
       "14  1123862  \n",
       "15  1836398  \n",
       "16   293398  \n",
       "17     2912  "
      ]
     },
     "execution_count": 19,
     "metadata": {},
     "output_type": "execute_result"
    }
   ],
   "source": [
    "df.describe().T"
   ]
  },
  {
   "cell_type": "code",
   "execution_count": 20,
   "metadata": {},
   "outputs": [],
   "source": [
    "df.to_csv(\"input.csv\")"
   ]
  },
  {
   "cell_type": "code",
   "execution_count": 26,
   "metadata": {},
   "outputs": [
    {
     "data": {
      "text/plain": [
       "pandas.core.frame.DataFrame"
      ]
     },
     "execution_count": 26,
     "metadata": {},
     "output_type": "execute_result"
    }
   ],
   "source": [
    "type(df)"
   ]
  },
  {
   "cell_type": "code",
   "execution_count": 30,
   "metadata": {},
   "outputs": [
    {
     "data": {
      "text/plain": [
       "Date received                         0\n",
       "Product                              38\n",
       "Sub-product                      215066\n",
       "Issue                                54\n",
       "Sub-issue                        662601\n",
       "Consumer complaint narrative    3544777\n",
       "Company public response         2479619\n",
       "Company                           56759\n",
       "State                            121025\n",
       "ZIP code                         249207\n",
       "Tags                            4374164\n",
       "Consumer consent provided?      1317202\n",
       "Submitted via                    195163\n",
       "Date sent to company              92192\n",
       "Company response to consumer     107402\n",
       "Timely response?                 249402\n",
       "Consumer disputed?              4261957\n",
       "Complaint ID                     286388\n",
       "dtype: int64"
      ]
     },
     "execution_count": 30,
     "metadata": {},
     "output_type": "execute_result"
    }
   ],
   "source": [
    "df.isnull().sum()"
   ]
  },
  {
   "cell_type": "code",
   "execution_count": 31,
   "metadata": {},
   "outputs": [
    {
     "name": "stdout",
     "output_type": "stream",
     "text": [
      "Date received = 4736\n",
      "Product = 46\n",
      "Sub-product = 106\n",
      "Issue = 193\n",
      "Sub-issue = 286\n",
      "Consumer complaint narrative = 1363895\n",
      "Company public response = 76343\n",
      "Company = 62943\n",
      "State = 57692\n",
      "ZIP code = 74636\n",
      "Tags = 31193\n",
      "Consumer consent provided? = 136944\n",
      "Submitted via = 30486\n",
      "Date sent to company = 31030\n",
      "Company response to consumer = 21635\n",
      "Timely response? = 27549\n",
      "Consumer disputed? = 162594\n",
      "Complaint ID = 4619850\n"
     ]
    }
   ],
   "source": [
    "for i in df.columns:\n",
    "    print(f'{i} = {len(df[i].unique())}')"
   ]
  },
  {
   "cell_type": "code",
   "execution_count": 28,
   "metadata": {},
   "outputs": [
    {
     "name": "stdout",
     "output_type": "stream",
     "text": [
      "Requirement already satisfied: pandas in d:\\bala\\project_inprogress\\finance\\venv\\lib\\site-packages (2.2.3)\n",
      "Collecting pyarrow\n",
      "  Downloading pyarrow-17.0.0-cp311-cp311-win_amd64.whl.metadata (3.4 kB)\n",
      "Requirement already satisfied: numpy>=1.23.2 in d:\\bala\\project_inprogress\\finance\\venv\\lib\\site-packages (from pandas) (2.1.1)\n",
      "Requirement already satisfied: python-dateutil>=2.8.2 in c:\\users\\balaj\\appdata\\roaming\\python\\python311\\site-packages (from pandas) (2.8.2)\n",
      "Requirement already satisfied: pytz>=2020.1 in d:\\bala\\project_inprogress\\finance\\venv\\lib\\site-packages (from pandas) (2024.2)\n",
      "Requirement already satisfied: tzdata>=2022.7 in d:\\bala\\project_inprogress\\finance\\venv\\lib\\site-packages (from pandas) (2024.1)\n",
      "Requirement already satisfied: six>=1.5 in c:\\users\\balaj\\appdata\\roaming\\python\\python311\\site-packages (from python-dateutil>=2.8.2->pandas) (1.16.0)\n",
      "Downloading pyarrow-17.0.0-cp311-cp311-win_amd64.whl (25.2 MB)\n",
      "   ---------------------------------------- 0.0/25.2 MB ? eta -:--:--\n",
      "   - -------------------------------------- 0.8/25.2 MB 8.3 MB/s eta 0:00:03\n",
      "   -- ------------------------------------- 1.3/25.2 MB 6.1 MB/s eta 0:00:04\n",
      "   --- ------------------------------------ 2.1/25.2 MB 3.9 MB/s eta 0:00:06\n",
      "   ---- ----------------------------------- 2.9/25.2 MB 3.9 MB/s eta 0:00:06\n",
      "   ----- ---------------------------------- 3.1/25.2 MB 3.2 MB/s eta 0:00:07\n",
      "   ------ --------------------------------- 4.2/25.2 MB 3.5 MB/s eta 0:00:06\n",
      "   ------- -------------------------------- 5.0/25.2 MB 3.6 MB/s eta 0:00:06\n",
      "   -------- ------------------------------- 5.5/25.2 MB 3.4 MB/s eta 0:00:06\n",
      "   ---------- ----------------------------- 6.8/25.2 MB 3.7 MB/s eta 0:00:05\n",
      "   ------------ --------------------------- 7.6/25.2 MB 3.7 MB/s eta 0:00:05\n",
      "   ------------- -------------------------- 8.4/25.2 MB 3.7 MB/s eta 0:00:05\n",
      "   -------------- ------------------------- 9.2/25.2 MB 3.7 MB/s eta 0:00:05\n",
      "   ---------------- ----------------------- 10.2/25.2 MB 3.7 MB/s eta 0:00:04\n",
      "   ----------------- ---------------------- 11.0/25.2 MB 3.8 MB/s eta 0:00:04\n",
      "   ----------------- ---------------------- 11.3/25.2 MB 3.6 MB/s eta 0:00:04\n",
      "   -------------------- ------------------- 12.6/25.2 MB 3.8 MB/s eta 0:00:04\n",
      "   --------------------- ------------------ 13.4/25.2 MB 3.8 MB/s eta 0:00:04\n",
      "   ---------------------- ----------------- 14.2/25.2 MB 3.8 MB/s eta 0:00:03\n",
      "   ------------------------ --------------- 15.2/25.2 MB 3.8 MB/s eta 0:00:03\n",
      "   ------------------------- -------------- 16.0/25.2 MB 3.8 MB/s eta 0:00:03\n",
      "   -------------------------- ------------- 16.8/25.2 MB 3.8 MB/s eta 0:00:03\n",
      "   --------------------------- ------------ 17.6/25.2 MB 3.8 MB/s eta 0:00:02\n",
      "   ----------------------------- ---------- 18.4/25.2 MB 3.8 MB/s eta 0:00:02\n",
      "   ------------------------------ --------- 19.1/25.2 MB 3.8 MB/s eta 0:00:02\n",
      "   ------------------------------- -------- 19.9/25.2 MB 3.8 MB/s eta 0:00:02\n",
      "   -------------------------------- ------- 20.7/25.2 MB 3.8 MB/s eta 0:00:02\n",
      "   ---------------------------------- ----- 21.8/25.2 MB 3.9 MB/s eta 0:00:01\n",
      "   ----------------------------------- ---- 22.3/25.2 MB 3.9 MB/s eta 0:00:01\n",
      "   ------------------------------------- -- 23.3/25.2 MB 3.9 MB/s eta 0:00:01\n",
      "   -------------------------------------- - 24.1/25.2 MB 3.8 MB/s eta 0:00:01\n",
      "   ---------------------------------------  24.9/25.2 MB 3.8 MB/s eta 0:00:01\n",
      "   ---------------------------------------- 25.2/25.2 MB 3.8 MB/s eta 0:00:00\n",
      "Installing collected packages: pyarrow\n",
      "Successfully installed pyarrow-17.0.0\n"
     ]
    },
    {
     "name": "stderr",
     "output_type": "stream",
     "text": [
      "ERROR: pip's dependency resolver does not currently take into account all the packages that are installed. This behaviour is the source of the following dependency conflicts.\n",
      "streamlit 1.37.0 requires requests<3,>=2.27, which is not installed.\n",
      "streamlit 1.37.0 requires toml<2,>=0.10.1, which is not installed.\n",
      "streamlit 1.37.0 requires typing-extensions<5,>=4.3.0, which is not installed.\n",
      "streamlit 1.37.0 requires watchdog<5,>=2.1.5; platform_system != \"Darwin\", which is not installed.\n",
      "streamlit 1.37.0 requires tenacity<9,>=8.1.0, but you have tenacity 9.0.0 which is incompatible.\n"
     ]
    }
   ],
   "source": [
    "!pip install pandas pyarrow"
   ]
  },
  {
   "cell_type": "code",
   "execution_count": 34,
   "metadata": {},
   "outputs": [
    {
     "name": "stderr",
     "output_type": "stream",
     "text": [
      "C:\\Users\\balaj\\AppData\\Local\\Temp\\ipykernel_27168\\1468204827.py:4: DtypeWarning: Columns (5,17) have mixed types. Specify dtype option on import or set low_memory=False.\n",
      "  df = pd.read_csv(\"input_file.csv\",on_bad_lines='skip')  # Replace with your actual CSV file\n"
     ]
    },
    {
     "name": "stdout",
     "output_type": "stream",
     "text": [
      "Sampled 250,000 records and saved as Parquet file.\n"
     ]
    }
   ],
   "source": [
    "import pandas as pd\n",
    "\n",
    "# Step 1: Load your DataFrame\n",
    "df = pd.read_csv(\"input_file.csv\",on_bad_lines='skip')  # Replace with your actual CSV file\n",
    "df['Complaint ID'] = df['Complaint ID'].astype('str')\n",
    "# Step 2: Sample 250,000 random records\n",
    "sampled_df = df.sample(n=250000, random_state=1)  # random_state for reproducibility\n",
    "\n",
    "# Step 3: Save the sampled DataFrame as a Parquet file\n",
    "sampled_df.to_parquet(\"input_file.parquet\", index=False)\n",
    "\n",
    "print(\"Sampled 250,000 records and saved as Parquet file.\")\n"
   ]
  },
  {
   "cell_type": "code",
   "execution_count": null,
   "metadata": {},
   "outputs": [],
   "source": []
  }
 ],
 "metadata": {
  "kernelspec": {
   "display_name": "Python 3",
   "language": "python",
   "name": "python3"
  },
  "language_info": {
   "codemirror_mode": {
    "name": "ipython",
    "version": 3
   },
   "file_extension": ".py",
   "mimetype": "text/x-python",
   "name": "python",
   "nbconvert_exporter": "python",
   "pygments_lexer": "ipython3",
   "version": "3.11.9"
  }
 },
 "nbformat": 4,
 "nbformat_minor": 2
}
